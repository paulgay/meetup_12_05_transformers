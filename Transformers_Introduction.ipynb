{
 "cells": [
  {
   "cell_type": "markdown",
   "metadata": {},
   "source": [
    "<table>\n",
    "<tr>\n",
    "    <td width=25%>\n",
    "        <img src=\" data:image/png;base64,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\" />\n",
    "    </td>\n",
    "    <td>\n",
    "        <center>\n",
    "            <h1>Meetup machine learning Pau</h1>\n",
    "        </center>\n",
    "    </td>\n",
    "    <td width=15%>\n",
    "        Paul Gay\n",
    "    </td>\n",
    "</tr>\n",
    "</table>"
   ]
  },
  {
   "cell_type": "markdown",
   "metadata": {},
   "source": [
    "<br/>\n",
    "<div id=\"top\"></div>\n",
    "<center>\n",
    "    <a style=\"font-size: 20pt; font-weight: bold\">Tester les transformeurs avec Hugging face</a>\n",
    "<br/>\n",
    "    Meetup 12 mai 2021 <br>\n",
    "</center>\n",
    "<br/>\n",
    "\n",
    "---"
   ]
  },
  {
   "cell_type": "markdown",
   "metadata": {},
   "source": [
    "Ce notebook vous propose de manipuler les embedding contextuels. \n",
    "\n",
    "Nous allons: \n",
    "\n",
    "- Générer du texte à partir des transformeurs\n",
    "- Obtenir des embedding et nous apercevoir qu'ils sont différents suivant leur contexte.\n",
    "\n",
    "Nous utiliserons la librairie de la compagnie [Hugging face](https://huggingface.co/) qui donne accès à des modèles pré-entrainées"
   ]
  },
  {
   "cell_type": "markdown",
   "metadata": {},
   "source": [
    "### Génération de texte \n",
    "\n",
    "Nous allons commencer par le modèle [Camembert](https://camembert-model.fr/) appris sur du français par les équipes de Facebook et de l'Inria.\n",
    "\n",
    "**Note:** Vous pouvez aussi directement essayer [la démo](https://transformer.huggingface.co/) en ligne de la librairie hugginface qui se base sur les même modèles."
   ]
  },
  {
   "cell_type": "code",
   "execution_count": 1,
   "metadata": {},
   "outputs": [],
   "source": [
    "from transformers import AutoModelWithLMHead, AutoTokenizer\n",
    "import torch"
   ]
  },
  {
   "cell_type": "code",
   "execution_count": 2,
   "metadata": {},
   "outputs": [
    {
     "name": "stderr",
     "output_type": "stream",
     "text": [
      "/home/paul/libs/transformers/src/transformers/models/auto/modeling_auto.py:762: FutureWarning: The class `AutoModelWithLMHead` is deprecated and will be removed in a future version. Please use `AutoModelForCausalLM` for causal language models, `AutoModelForMaskedLM` for masked language models and `AutoModelForSeq2SeqLM` for encoder-decoder models.\n",
      "  FutureWarning,\n"
     ]
    }
   ],
   "source": [
    "model_name = \"camembert-base\"# try also distilbert-base-cased for english\n",
    "tokenizer = AutoTokenizer.from_pretrained(model_name)\n",
    "model = AutoModelWithLMHead.from_pretrained(model_name)"
   ]
  },
  {
   "cell_type": "markdown",
   "metadata": {},
   "source": [
    "Vérifions la culture de notre modèle"
   ]
  },
  {
   "cell_type": "code",
   "execution_count": 10,
   "metadata": {},
   "outputs": [
    {
     "name": "stdout",
     "output_type": "stream",
     "text": [
      "Jacques Chirac est un ...\n",
      "Jacques Chirac est un (...)\n",
      "Jacques Chirac est un homme\n",
      "Jacques Chirac est un [...]\n",
      "Jacques Chirac est un président\n"
     ]
    }
   ],
   "source": [
    "sequence = f\"Jacques Chirac est un {tokenizer.mask_token}\"\n",
    "#sequence = f\"Antoine Griezman est un {tokenizer.mask_token}\"\n",
    "#sequence = f\"Le camembert, c'est {tokenizer.mask_token}\"\n",
    "\n",
    "input = tokenizer.encode(sequence, return_tensors=\"pt\")\n",
    "mask_token_index = torch.where(input == tokenizer.mask_token_id)[1]\n",
    "token_logits = model(input).logits\n",
    "mask_token_logits = token_logits[0, mask_token_index, :]\n",
    "top_5_tokens = torch.topk(mask_token_logits, 5, dim=1).indices[0].tolist()\n",
    "for token in top_5_tokens:\n",
    "    print(sequence.replace(tokenizer.mask_token, tokenizer.decode([token])))"
   ]
  },
  {
   "cell_type": "markdown",
   "metadata": {},
   "source": [
    "Utilisons à présent le modèle [GPT2](https://openai.com/blog/better-language-models/), spécialisé dans la génération de texte. À la différence de GPT-3, OpenAI a rendu ce modèle public.\n",
    "\n",
    "Nous allons appeler ce modèle à partir de l'interface python de hugginface, mais si vous le souhaitez, vous pouvez aussi utiliser [la démo en ligne](https://transformer.huggingface.co/doc/gpt2-large) de hugging face. "
   ]
  },
  {
   "cell_type": "code",
   "execution_count": 8,
   "metadata": {},
   "outputs": [
    {
     "name": "stderr",
     "output_type": "stream",
     "text": [
      "All model checkpoint layers were used when initializing TFGPT2LMHeadModel.\n",
      "\n",
      "All the layers of TFGPT2LMHeadModel were initialized from the model checkpoint at gpt2.\n",
      "If your task is similar to the task the model of the checkpoint was trained on, you can already use TFGPT2LMHeadModel for predictions without further training.\n"
     ]
    }
   ],
   "source": [
    "from transformers import TFAutoModelWithLMHead, AutoTokenizer, tf_top_k_top_p_filtering\n",
    "import tensorflow as tf\n",
    "tokenizer = AutoTokenizer.from_pretrained(\"gpt2\")\n",
    "model = TFAutoModelWithLMHead.from_pretrained(\"gpt2\")\n",
    "sequence = f\"Hugging Face is based in DUMBO, New York City, and \"\n",
    "input_ids = tokenizer.encode(sequence, return_tensors=\"tf\")\n",
    "# get logits of last hidden state\n",
    "next_token_logits = model(input_ids)[0][:, -1, :]\n",
    "# filter\n",
    "filtered_next_token_logits = tf_top_k_top_p_filtering(next_token_logits, top_k=50, top_p=1.0)\n",
    "# sample\n",
    "next_token = tf.random.categorical(filtered_next_token_logits, dtype=tf.int32, num_samples=1)\n",
    "generated = tf.concat([input_ids, next_token], axis=1)\n",
    "resulting_string = tokenizer.decode(generated.numpy().tolist()[0])"
   ]
  },
  {
   "cell_type": "code",
   "execution_count": 10,
   "metadata": {},
   "outputs": [
    {
     "name": "stdout",
     "output_type": "stream",
     "text": [
      "Model: \"tfgp_t2lm_head_model_1\"\n",
      "_________________________________________________________________\n",
      "Layer (type)                 Output Shape              Param #   \n",
      "=================================================================\n",
      "transformer (TFGPT2MainLayer multiple                  124439808 \n",
      "=================================================================\n",
      "Total params: 124,439,808\n",
      "Trainable params: 124,439,808\n",
      "Non-trainable params: 0\n",
      "_________________________________________________________________\n"
     ]
    }
   ],
   "source": [
    "model.summary()"
   ]
  },
  {
   "cell_type": "code",
   "execution_count": 8,
   "metadata": {},
   "outputs": [
    {
     "name": "stderr",
     "output_type": "stream",
     "text": [
      "Setting `pad_token_id` to `eos_token_id`:50256 for open-end generation.\n"
     ]
    },
    {
     "name": "stdout",
     "output_type": "stream",
     "text": [
      "[{'generated_text': 'As far as i am ive seen, i dont know if it is a bug or not. I have seen a few people report it and it seems to be working fine. I have also seen a few people report it and it seems to be'}]\n"
     ]
    }
   ],
   "source": [
    "from transformers import pipeline\n",
    "text_generator = pipeline(\"text-generation\")\n",
    "print(text_generator(\"As far as i am \", max_length=50, do_sample=False))"
   ]
  },
  {
   "cell_type": "code",
   "execution_count": 25,
   "metadata": {},
   "outputs": [
    {
     "name": "stderr",
     "output_type": "stream",
     "text": [
      "Setting `pad_token_id` to `eos_token_id`:50256 for open-end generation.\n"
     ]
    },
    {
     "name": "stdout",
     "output_type": "stream",
     "text": [
      "[{'generated_text': \"yesterday, there was in a sky a bunch of iced tea, and I was like, 'Oh, I'm so glad I got this.' And I was like, 'Oh, I'm so glad I got this.' And I was\"}]\n"
     ]
    }
   ],
   "source": [
    "print(text_generator(\"yesterday, there was in a sky a bunch of \", max_length=50, do_sample=False))"
   ]
  },
  {
   "cell_type": "markdown",
   "metadata": {},
   "source": [
    "Par défaut nous obtenons les mots les plus probables, ce qui se traduit par de **nombreuses répétitions**. En fixant le paramètre `do_sample` à True, le modèle introduit aléatoirement de la variété."
   ]
  },
  {
   "cell_type": "code",
   "execution_count": 27,
   "metadata": {},
   "outputs": [
    {
     "name": "stderr",
     "output_type": "stream",
     "text": [
      "Setting `pad_token_id` to `eos_token_id`:50256 for open-end generation.\n"
     ]
    },
    {
     "name": "stdout",
     "output_type": "stream",
     "text": [
      "[{'generated_text': 'yesterday, there was in a sky a bunch of iphone dongs, it would be a long time before somebody with what appears to be a strong understanding could come to it. Also, the time I had to send the message back was'}]\n"
     ]
    }
   ],
   "source": [
    "print(text_generator(\"yesterday, there was in a sky a bunch of \", max_length=50, do_sample=True))"
   ]
  },
  {
   "cell_type": "markdown",
   "metadata": {},
   "source": [
    "## Plongements lexicaux contextuels\n",
    "\n",
    "Nous vous proposons d'observer la tokenisation et les distances entre quelques embedding contextuels avec le transformeur Bert. "
   ]
  },
  {
   "cell_type": "code",
   "execution_count": 15,
   "metadata": {},
   "outputs": [],
   "source": [
    "# chargement des modèles\n",
    "from transformers import BertModel, BertConfig\n",
    "from transformers import BertTokenizer\n",
    "\n",
    "tokenizer = BertTokenizer.from_pretrained('bert-base-cased')\n",
    "model = BertModel.from_pretrained('bert-base-cased')"
   ]
  },
  {
   "cell_type": "markdown",
   "metadata": {},
   "source": [
    "À partir d'une phrase, nous effectuons une tokenization, puis obtenons un embedding pour chaque mot de la phrase.\n",
    "\n",
    "Notez que le tokenizer est spécifique à chaque modèle et traduit le choix du vocabulaire et la manière dont il a été appris."
   ]
  },
  {
   "cell_type": "code",
   "execution_count": 16,
   "metadata": {},
   "outputs": [],
   "source": [
    "sentence = \"Dan Barry This Land column examines meaning of quiet act of kindness by black state trooper in Columbia, SC, who quietly helped an aging white protester who had become overwhelmed by heat and emotion.\"\n",
    "\n",
    "# tokenisation de la phrase\n",
    "input_ids = torch.tensor(tokenizer.encode(sentence)).unsqueeze(0)  # Batch size 1\n",
    "\n",
    "# Calcul des embeddings pour chaque token\n",
    "outputs = model(input_ids, return_dict=True) # output_hidden_states=True)\n"
   ]
  },
  {
   "cell_type": "markdown",
   "metadata": {},
   "source": [
    "Visualisation des tokens, notez le double ## quand les tokens correspondent à des parties de mots."
   ]
  },
  {
   "cell_type": "code",
   "execution_count": 17,
   "metadata": {},
   "outputs": [
    {
     "name": "stdout",
     "output_type": "stream",
     "text": [
      "we have  41 tokens\n",
      "\n",
      "[CLS], Dan, Barry, This, Land, column, examines, meaning, of, quiet, act, of, kindness, by, black, state, troop, ##er, in, Columbia, ,, SC, ,, who, quietly, helped, an, aging, white, protest, ##er, who, had, become, overwhelmed, by, heat, and, emotion, ., [SEP]\n"
     ]
    }
   ],
   "source": [
    "print('we have ', len(input_ids[0]), 'tokens')\n",
    "print()\n",
    "print( ', '.join([ tokenizer.ids_to_tokens[int(idi)] for idi in input_ids[0]]))"
   ]
  },
  {
   "cell_type": "code",
   "execution_count": 18,
   "metadata": {},
   "outputs": [
    {
     "name": "stdout",
     "output_type": "stream",
     "text": [
      "nous obtenons 41 vecteur de plongement de dimension 768\n"
     ]
    }
   ],
   "source": [
    "print(\"nous obtenons\", outputs['last_hidden_state'].shape[1], 'vecteur de plongement de dimension',outputs['last_hidden_state'].shape[2])"
   ]
  },
  {
   "cell_type": "markdown",
   "metadata": {},
   "source": [
    "A présent, comparons les vecteur de plongement dans le cas de contextes différents. Nous allons utiliser des phrases autour du mot \"mouse\" qui correspondent à l'animal et au matériel de bureautique."
   ]
  },
  {
   "cell_type": "code",
   "execution_count": 19,
   "metadata": {},
   "outputs": [],
   "source": [
    "sentence = \"the cat eats the mouse\"\n",
    "# tokenisation de la phrase\n",
    "input_ids1 = torch.tensor(tokenizer.encode(sentence)).unsqueeze(0)  # Batch size 1\n",
    "# Calcul des embeddings pour chaque token\n",
    "outputs1 = model(input_ids1, return_dict=True) # output_hidden_states=True)\n",
    "\n",
    "\n",
    "sentence = \"cheese loving mouse\"\n",
    "# tokenisation de la phrase\n",
    "input_ids2 = torch.tensor(tokenizer.encode(sentence)).unsqueeze(0)  # Batch size 1\n",
    "# Calcul des embeddings pour chaque token\n",
    "outputs2 = model(input_ids2, return_dict=True) # output_hidden_states=True)\n",
    "\n",
    "sentence = \"the click on the computer mouse\"\n",
    "# tokenisation de la phrase\n",
    "input_ids3 = torch.tensor(tokenizer.encode(sentence)).unsqueeze(0)  # Batch size 1\n",
    "# Calcul des embeddings pour chaque token\n",
    "outputs3 = model(input_ids3, return_dict=True) # output_hidden_states=True)\n",
    "\n",
    "sentence = \"the cat eats the rat\"\n",
    "# tokenisation de la phrase\n",
    "input_ids4 = torch.tensor(tokenizer.encode(sentence)).unsqueeze(0)  # Batch size 1\n",
    "# Calcul des embeddings pour chaque token\n",
    "outputs4 = model(input_ids1, return_dict=True) # output_hidden_states=True)"
   ]
  },
  {
   "cell_type": "code",
   "execution_count": 20,
   "metadata": {},
   "outputs": [
    {
     "name": "stdout",
     "output_type": "stream",
     "text": [
      "[CLS], the, cat, eats, the, mouse, [SEP]\n"
     ]
    }
   ],
   "source": [
    "# affichage d'une des phrases\n",
    "print( ', '.join([ tokenizer.ids_to_tokens[int(idi)] for idi in input_ids1[0]]))"
   ]
  },
  {
   "cell_type": "code",
   "execution_count": 21,
   "metadata": {},
   "outputs": [
    {
     "data": {
      "text/plain": [
       "('mouse', 'mouse', 'mouse', 'rat')"
      ]
     },
     "execution_count": 21,
     "metadata": {},
     "output_type": "execute_result"
    }
   ],
   "source": [
    "# vérifions que nous sélections les indices des jetons pour le mot \"mouse\" et \"rat\"\n",
    "tokenizer.ids_to_tokens[int(input_ids1[0][5])], tokenizer.ids_to_tokens[int(input_ids2[0][3])], tokenizer.ids_to_tokens[int(input_ids3[0][6])], tokenizer.ids_to_tokens[int(input_ids4[0][5])]"
   ]
  },
  {
   "cell_type": "markdown",
   "metadata": {},
   "source": [
    "Affichons maintenant les distances entre ces différents vecteurs"
   ]
  },
  {
   "cell_type": "code",
   "execution_count": 26,
   "metadata": {},
   "outputs": [
    {
     "name": "stdout",
     "output_type": "stream",
     "text": [
      "distance entre la souris (animal) et la souris (animal) 7.364588260650635\n",
      "distance entre la souris (animal), et la souris (bureautique) 8.45804500579834\n",
      "\n",
      "distance entre souris (animal) et le rat avec le même contexte 2.7712725568562746e-05\n",
      "distance entre souris (animal) et le rat avec un contexte différent 7.364588260650635\n",
      "distance entre la souris (bureautique), et le rat 8.45804500579834\n"
     ]
    }
   ],
   "source": [
    "pdist = torch.nn.PairwiseDistance(p=2.0, eps=1e-06, keepdim=False)\n",
    "mouse_eaten = outputs1['last_hidden_state'][:,5,:] \n",
    "mouse_eating = outputs2['last_hidden_state'][:,3,:]\n",
    "mouse_click = outputs3['last_hidden_state'][:,6,:] \n",
    "rat_eaten = outputs4['last_hidden_state'][:,5,:] \n",
    "\n",
    "print(\"distance entre la souris (animal) et la souris (animal)\", float(pdist(mouse_eaten, mouse_eating)))\n",
    "print(\"distance entre la souris (animal), et la souris (bureautique)\", float(pdist(mouse_eaten, mouse_click)))\n",
    "print()\n",
    "print(\"distance entre souris (animal) et le rat avec le même contexte\", float(pdist(rat_eaten, mouse_eaten)))\n",
    "print(\"distance entre souris (animal) et le rat avec un contexte différent\", float(pdist(rat_eaten, mouse_eating)))\n",
    "print(\"distance entre la souris (bureautique), et le rat\", float(pdist(rat_eaten, mouse_click)))\n"
   ]
  },
  {
   "cell_type": "markdown",
   "metadata": {},
   "source": [
    "En conclusion, nous voyons que des embeddings différents sont crées pour chaque phrase, et que deux contextes similaires vont produire un vecteur similaire.\n",
    "En revanche, il est plus difficile de conclure que chaque cluster d'embedding correspondrant à un sens particulier du mot. \n",
    "\n",
    "Pour plus de détails sur la contextualisation, vous pouvez lire cet [article](http://ai.stanford.edu/blog/contextual/) du Stanford AI Lab Blog"
   ]
  },
  {
   "cell_type": "code",
   "execution_count": null,
   "metadata": {},
   "outputs": [],
   "source": []
  }
 ],
 "metadata": {
  "kernelspec": {
   "display_name": "Python 3",
   "language": "python",
   "name": "python3"
  },
  "language_info": {
   "codemirror_mode": {
    "name": "ipython",
    "version": 3
   },
   "file_extension": ".py",
   "mimetype": "text/x-python",
   "name": "python",
   "nbconvert_exporter": "python",
   "pygments_lexer": "ipython3",
   "version": "3.7.6"
  }
 },
 "nbformat": 4,
 "nbformat_minor": 1
}
